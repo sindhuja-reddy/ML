{
  "nbformat": 4,
  "nbformat_minor": 0,
  "metadata": {
    "colab": {
      "provenance": []
    },
    "kernelspec": {
      "name": "python3",
      "display_name": "Python 3"
    },
    "language_info": {
      "name": "python"
    }
  },
  "cells": [
    {
      "cell_type": "code",
      "execution_count": null,
      "metadata": {
        "id": "_dbYzmrASc7Y"
      },
      "outputs": [],
      "source": [
        "import numpy as np\n",
        "import pandas as pd\n",
        "#from sklearn.cluster import KMeans\n",
        "import scipy \n",
        "import sklearn\n",
        "from collections import Counter\n",
        "from sklearn.metrics import multilabel_confusion_matrix\n",
        "from scipy import spatial\n",
        "#Import data\n",
        "#Split data\n",
        "#Function Definitions start\n",
        "#sse_calculation\n",
        "\n",
        "#kMeans Algorithm\n",
        "##Initialize centroids\n",
        "##Looping through the data...\n",
        "##Calculate distance of each point from the centroid using distance functions\n",
        "##Assign that point to that centroid whose distance is minimum\n",
        "##Calucate new centroids for each cluster\n",
        "##Iterate until the centroids doesnt change\n",
        "\n",
        "#Calculate SSE for the entire data points\n",
        "#Compare between different distance measures\n",
        "\n",
        "#Accuracy calculation for the clusters\n",
        "#Compare accuracies between various Kmeans algorithms\n",
        "\n",
        "\n"
      ]
    },
    {
      "cell_type": "code",
      "source": [
        "data = pd.read_csv('data.csv')\n",
        "labels = pd.read_csv('label.csv',names=['label'],header=None)"
      ],
      "metadata": {
        "id": "EV9TP3iyShn-"
      },
      "execution_count": null,
      "outputs": []
    },
    {
      "cell_type": "code",
      "source": [
        "data.head()"
      ],
      "metadata": {
        "colab": {
          "base_uri": "https://localhost:8080/",
          "height": 279
        },
        "id": "lXkr77swV5H9",
        "outputId": "594e4fd9-a551-4eba-db09-ca78ad33dd65"
      },
      "execution_count": null,
      "outputs": [
        {
          "output_type": "execute_result",
          "data": {
            "text/plain": [
              "   0  0.1  0.2  0.3  0.4  0.5  0.6  0.7  0.8  0.9  ...  0.658  0.659  0.660  \\\n",
              "0  0    0    0    0    0    0    0    0    0    0  ...      0      0      0   \n",
              "1  0    0    0    0    0    0    0    0    0    0  ...      0      0      0   \n",
              "2  0    0    0    0    0    0    0    0    0    0  ...      0      0      0   \n",
              "3  0    0    0    0    0    0    0    0    0    0  ...      0      0      0   \n",
              "4  0    0    0    0    0    0    0    0    0    0  ...      0      0      0   \n",
              "\n",
              "   0.661  0.662  0.663  0.664  0.665  0.666  0.667  \n",
              "0      0      0      0      0      0      0      0  \n",
              "1      0      0      0      0      0      0      0  \n",
              "2      0      0      0      0      0      0      0  \n",
              "3      0      0      0      0      0      0      0  \n",
              "4      0      0      0      0      0      0      0  \n",
              "\n",
              "[5 rows x 784 columns]"
            ],
            "text/html": [
              "\n",
              "  <div id=\"df-19955ffc-36cf-4416-82c7-85dcdfcf9b65\">\n",
              "    <div class=\"colab-df-container\">\n",
              "      <div>\n",
              "<style scoped>\n",
              "    .dataframe tbody tr th:only-of-type {\n",
              "        vertical-align: middle;\n",
              "    }\n",
              "\n",
              "    .dataframe tbody tr th {\n",
              "        vertical-align: top;\n",
              "    }\n",
              "\n",
              "    .dataframe thead th {\n",
              "        text-align: right;\n",
              "    }\n",
              "</style>\n",
              "<table border=\"1\" class=\"dataframe\">\n",
              "  <thead>\n",
              "    <tr style=\"text-align: right;\">\n",
              "      <th></th>\n",
              "      <th>0</th>\n",
              "      <th>0.1</th>\n",
              "      <th>0.2</th>\n",
              "      <th>0.3</th>\n",
              "      <th>0.4</th>\n",
              "      <th>0.5</th>\n",
              "      <th>0.6</th>\n",
              "      <th>0.7</th>\n",
              "      <th>0.8</th>\n",
              "      <th>0.9</th>\n",
              "      <th>...</th>\n",
              "      <th>0.658</th>\n",
              "      <th>0.659</th>\n",
              "      <th>0.660</th>\n",
              "      <th>0.661</th>\n",
              "      <th>0.662</th>\n",
              "      <th>0.663</th>\n",
              "      <th>0.664</th>\n",
              "      <th>0.665</th>\n",
              "      <th>0.666</th>\n",
              "      <th>0.667</th>\n",
              "    </tr>\n",
              "  </thead>\n",
              "  <tbody>\n",
              "    <tr>\n",
              "      <th>0</th>\n",
              "      <td>0</td>\n",
              "      <td>0</td>\n",
              "      <td>0</td>\n",
              "      <td>0</td>\n",
              "      <td>0</td>\n",
              "      <td>0</td>\n",
              "      <td>0</td>\n",
              "      <td>0</td>\n",
              "      <td>0</td>\n",
              "      <td>0</td>\n",
              "      <td>...</td>\n",
              "      <td>0</td>\n",
              "      <td>0</td>\n",
              "      <td>0</td>\n",
              "      <td>0</td>\n",
              "      <td>0</td>\n",
              "      <td>0</td>\n",
              "      <td>0</td>\n",
              "      <td>0</td>\n",
              "      <td>0</td>\n",
              "      <td>0</td>\n",
              "    </tr>\n",
              "    <tr>\n",
              "      <th>1</th>\n",
              "      <td>0</td>\n",
              "      <td>0</td>\n",
              "      <td>0</td>\n",
              "      <td>0</td>\n",
              "      <td>0</td>\n",
              "      <td>0</td>\n",
              "      <td>0</td>\n",
              "      <td>0</td>\n",
              "      <td>0</td>\n",
              "      <td>0</td>\n",
              "      <td>...</td>\n",
              "      <td>0</td>\n",
              "      <td>0</td>\n",
              "      <td>0</td>\n",
              "      <td>0</td>\n",
              "      <td>0</td>\n",
              "      <td>0</td>\n",
              "      <td>0</td>\n",
              "      <td>0</td>\n",
              "      <td>0</td>\n",
              "      <td>0</td>\n",
              "    </tr>\n",
              "    <tr>\n",
              "      <th>2</th>\n",
              "      <td>0</td>\n",
              "      <td>0</td>\n",
              "      <td>0</td>\n",
              "      <td>0</td>\n",
              "      <td>0</td>\n",
              "      <td>0</td>\n",
              "      <td>0</td>\n",
              "      <td>0</td>\n",
              "      <td>0</td>\n",
              "      <td>0</td>\n",
              "      <td>...</td>\n",
              "      <td>0</td>\n",
              "      <td>0</td>\n",
              "      <td>0</td>\n",
              "      <td>0</td>\n",
              "      <td>0</td>\n",
              "      <td>0</td>\n",
              "      <td>0</td>\n",
              "      <td>0</td>\n",
              "      <td>0</td>\n",
              "      <td>0</td>\n",
              "    </tr>\n",
              "    <tr>\n",
              "      <th>3</th>\n",
              "      <td>0</td>\n",
              "      <td>0</td>\n",
              "      <td>0</td>\n",
              "      <td>0</td>\n",
              "      <td>0</td>\n",
              "      <td>0</td>\n",
              "      <td>0</td>\n",
              "      <td>0</td>\n",
              "      <td>0</td>\n",
              "      <td>0</td>\n",
              "      <td>...</td>\n",
              "      <td>0</td>\n",
              "      <td>0</td>\n",
              "      <td>0</td>\n",
              "      <td>0</td>\n",
              "      <td>0</td>\n",
              "      <td>0</td>\n",
              "      <td>0</td>\n",
              "      <td>0</td>\n",
              "      <td>0</td>\n",
              "      <td>0</td>\n",
              "    </tr>\n",
              "    <tr>\n",
              "      <th>4</th>\n",
              "      <td>0</td>\n",
              "      <td>0</td>\n",
              "      <td>0</td>\n",
              "      <td>0</td>\n",
              "      <td>0</td>\n",
              "      <td>0</td>\n",
              "      <td>0</td>\n",
              "      <td>0</td>\n",
              "      <td>0</td>\n",
              "      <td>0</td>\n",
              "      <td>...</td>\n",
              "      <td>0</td>\n",
              "      <td>0</td>\n",
              "      <td>0</td>\n",
              "      <td>0</td>\n",
              "      <td>0</td>\n",
              "      <td>0</td>\n",
              "      <td>0</td>\n",
              "      <td>0</td>\n",
              "      <td>0</td>\n",
              "      <td>0</td>\n",
              "    </tr>\n",
              "  </tbody>\n",
              "</table>\n",
              "<p>5 rows × 784 columns</p>\n",
              "</div>\n",
              "      <button class=\"colab-df-convert\" onclick=\"convertToInteractive('df-19955ffc-36cf-4416-82c7-85dcdfcf9b65')\"\n",
              "              title=\"Convert this dataframe to an interactive table.\"\n",
              "              style=\"display:none;\">\n",
              "        \n",
              "  <svg xmlns=\"http://www.w3.org/2000/svg\" height=\"24px\"viewBox=\"0 0 24 24\"\n",
              "       width=\"24px\">\n",
              "    <path d=\"M0 0h24v24H0V0z\" fill=\"none\"/>\n",
              "    <path d=\"M18.56 5.44l.94 2.06.94-2.06 2.06-.94-2.06-.94-.94-2.06-.94 2.06-2.06.94zm-11 1L8.5 8.5l.94-2.06 2.06-.94-2.06-.94L8.5 2.5l-.94 2.06-2.06.94zm10 10l.94 2.06.94-2.06 2.06-.94-2.06-.94-.94-2.06-.94 2.06-2.06.94z\"/><path d=\"M17.41 7.96l-1.37-1.37c-.4-.4-.92-.59-1.43-.59-.52 0-1.04.2-1.43.59L10.3 9.45l-7.72 7.72c-.78.78-.78 2.05 0 2.83L4 21.41c.39.39.9.59 1.41.59.51 0 1.02-.2 1.41-.59l7.78-7.78 2.81-2.81c.8-.78.8-2.07 0-2.86zM5.41 20L4 18.59l7.72-7.72 1.47 1.35L5.41 20z\"/>\n",
              "  </svg>\n",
              "      </button>\n",
              "      \n",
              "  <style>\n",
              "    .colab-df-container {\n",
              "      display:flex;\n",
              "      flex-wrap:wrap;\n",
              "      gap: 12px;\n",
              "    }\n",
              "\n",
              "    .colab-df-convert {\n",
              "      background-color: #E8F0FE;\n",
              "      border: none;\n",
              "      border-radius: 50%;\n",
              "      cursor: pointer;\n",
              "      display: none;\n",
              "      fill: #1967D2;\n",
              "      height: 32px;\n",
              "      padding: 0 0 0 0;\n",
              "      width: 32px;\n",
              "    }\n",
              "\n",
              "    .colab-df-convert:hover {\n",
              "      background-color: #E2EBFA;\n",
              "      box-shadow: 0px 1px 2px rgba(60, 64, 67, 0.3), 0px 1px 3px 1px rgba(60, 64, 67, 0.15);\n",
              "      fill: #174EA6;\n",
              "    }\n",
              "\n",
              "    [theme=dark] .colab-df-convert {\n",
              "      background-color: #3B4455;\n",
              "      fill: #D2E3FC;\n",
              "    }\n",
              "\n",
              "    [theme=dark] .colab-df-convert:hover {\n",
              "      background-color: #434B5C;\n",
              "      box-shadow: 0px 1px 3px 1px rgba(0, 0, 0, 0.15);\n",
              "      filter: drop-shadow(0px 1px 2px rgba(0, 0, 0, 0.3));\n",
              "      fill: #FFFFFF;\n",
              "    }\n",
              "  </style>\n",
              "\n",
              "      <script>\n",
              "        const buttonEl =\n",
              "          document.querySelector('#df-19955ffc-36cf-4416-82c7-85dcdfcf9b65 button.colab-df-convert');\n",
              "        buttonEl.style.display =\n",
              "          google.colab.kernel.accessAllowed ? 'block' : 'none';\n",
              "\n",
              "        async function convertToInteractive(key) {\n",
              "          const element = document.querySelector('#df-19955ffc-36cf-4416-82c7-85dcdfcf9b65');\n",
              "          const dataTable =\n",
              "            await google.colab.kernel.invokeFunction('convertToInteractive',\n",
              "                                                     [key], {});\n",
              "          if (!dataTable) return;\n",
              "\n",
              "          const docLinkHtml = 'Like what you see? Visit the ' +\n",
              "            '<a target=\"_blank\" href=https://colab.research.google.com/notebooks/data_table.ipynb>data table notebook</a>'\n",
              "            + ' to learn more about interactive tables.';\n",
              "          element.innerHTML = '';\n",
              "          dataTable['output_type'] = 'display_data';\n",
              "          await google.colab.output.renderOutput(dataTable, element);\n",
              "          const docLink = document.createElement('div');\n",
              "          docLink.innerHTML = docLinkHtml;\n",
              "          element.appendChild(docLink);\n",
              "        }\n",
              "      </script>\n",
              "    </div>\n",
              "  </div>\n",
              "  "
            ]
          },
          "metadata": {},
          "execution_count": 5
        }
      ]
    },
    {
      "cell_type": "code",
      "source": [
        "data.count()"
      ],
      "metadata": {
        "colab": {
          "base_uri": "https://localhost:8080/"
        },
        "id": "rJ7Y_7NYV_D8",
        "outputId": "92b64688-3165-471a-de26-d93a7f1d55c5"
      },
      "execution_count": null,
      "outputs": [
        {
          "output_type": "execute_result",
          "data": {
            "text/plain": [
              "0        9999\n",
              "0.1      9999\n",
              "0.2      9999\n",
              "0.3      9999\n",
              "0.4      9999\n",
              "         ... \n",
              "0.663    9999\n",
              "0.664    9999\n",
              "0.665    9999\n",
              "0.666    9999\n",
              "0.667    9999\n",
              "Length: 784, dtype: int64"
            ]
          },
          "metadata": {},
          "execution_count": 6
        }
      ]
    },
    {
      "cell_type": "code",
      "source": [
        "#Split data\n",
        "from sklearn.model_selection import train_test_split\n",
        "train_data, test_data = train_test_split( data, test_size=0.08, random_state=42)\n",
        "train_labels, test_labels = train_test_split( labels, test_size=0.08, random_state=42)"
      ],
      "metadata": {
        "id": "En96rQIQSmV-"
      },
      "execution_count": null,
      "outputs": []
    },
    {
      "cell_type": "code",
      "source": [
        "class KMeans:\n",
        "    \n",
        "    def calculate_SSE(self, centroid_value_dict, centroid_dict,data):\n",
        "        sse_data = 0\n",
        "        for i in centroid_dict:\n",
        "            sse_cluster = 0\n",
        "            # np.sum()\n",
        "            for j in centroid_dict[i]:\n",
        "                dp = list(data.iloc[int(j)])\n",
        "                for a,b in zip(centroid_value_dict[i],dp):\n",
        "                    sse_cluster += (a-b)**2\n",
        "            sse_data+=sse_cluster\n",
        "        return sse_data    \n",
        "    \n",
        "    def Initialize_Centroids(self,data,K):\n",
        "        m = data.shape[0]\n",
        "        centroid_value_dict={}\n",
        "        for i in range(K):\n",
        "            r = np.random.randint(0, m-1)\n",
        "            centroid_value_dict[i] = data.iloc[r]\n",
        "        return centroid_value_dict\n",
        "    \n",
        "    def jaccard_similarity(self,centroid, dp):\n",
        "        intersection = len(list(set(centroid).intersection(dp)))\n",
        "        union = (len(set(centroid)) + len(set(dp))) - intersection\n",
        "        return float(intersection) / union\n",
        "\n",
        "    def train_Kmeans(self,data,K,max_iter=20,mode=1,tol=10):\n",
        "        #Mode = 1 => Euclidean np.linalg.norm(x-list(data.iloc[i,:]))\n",
        "        #Mode = 2 => Jaccard\n",
        "        #Mode = 3 => Cosine\n",
        "        centroid_value_dict = self.Initialize_Centroids(data,K)\n",
        "        new_centroid_value_dict = {}\n",
        "        count = 0\n",
        "        centroid_dict = {}\n",
        "        convergence = False\n",
        "        while((count<max_iter) and not convergence):\n",
        "            \n",
        "            for i in list(centroid_value_dict.keys()):\n",
        "                centroid_dict[i]=[]\n",
        "            for i in range(data.shape[0]):\n",
        "                x = data.iloc[i]\n",
        "                if mode==1 :\n",
        "                    distance_measure = [np.linalg.norm(x-centroid_value_dict[j])  for j in centroid_value_dict]\n",
        "                    idx = np.argmin(distance_measure)\n",
        "                    centroid_dict[idx].append(i)\n",
        "                elif mode==2 :\n",
        "                    distance_measure = [self.jaccard_similarity(list(x),centroid_value_dict[j]) for j in centroid_value_dict]\n",
        "                    idx = np.argmax(distance_measure)\n",
        "                    centroid_dict[idx].append(i)\n",
        "                elif mode==3 :\n",
        "                    distance_measure = [1-scipy.spatial.distance.cosine(x,list(centroid_value_dict[j]))  for j in centroid_value_dict]\n",
        "                    idx = np.argmax(distance_measure)\n",
        "                    centroid_dict[idx].append(i)\n",
        "                \n",
        "                prev_centroids=dict(centroid_value_dict)\n",
        "                \n",
        "            \n",
        "            for i in centroid_dict:\n",
        "                if len(centroid_dict[i]):\n",
        "                    dps_centroid = centroid_dict[i]\n",
        "                    centroid_value_dict[i] = np.average(data.iloc[dps_centroid],axis=0)\n",
        "            \n",
        "            \n",
        "            current_tol=-1\n",
        "            for i in centroid_value_dict:\n",
        "                prev_centroid_point = prev_centroids[i]\n",
        "                new_centroid_point = centroid_value_dict[i]\n",
        "                change = np.sum(np.absolute(new_centroid_point-prev_centroid_point))\n",
        "                current_tol = max(change, current_tol)\n",
        "                \n",
        "            print(\"Tolerance for the Iteration \",count,\": \",current_tol)\n",
        "            \n",
        "            count+=1\n",
        "            if (current_tol<10):\n",
        "                convergence = True\n",
        "                break\n",
        "           # print(\"KMeans Iteration\",count)\n",
        "        return centroid_value_dict,centroid_dict\n",
        "    "
      ],
      "metadata": {
        "id": "NBERhOkrSrVR"
      },
      "execution_count": null,
      "outputs": []
    },
    {
      "cell_type": "code",
      "source": [
        "def predict_cluster_labels(C, S, labels):\n",
        "    '''\n",
        "    Input : C -> Centroids\n",
        "            S -> Set of Indicies corresponding to Centroid C\n",
        "            data -> Data used to form clusters\n",
        "    Output : Returns an array of size K having labels based on majority voting in the cluster\n",
        "    '''\n",
        "    cluster_labels = np.zeros(10,dtype=int)\n",
        "    for c in C:\n",
        "        labels_of_points = []\n",
        "        for point in S[c]:\n",
        "            labels_of_points.extend(labels.iloc[point])\n",
        "        counter = Counter(labels_of_points)\n",
        "        try:\n",
        "            cluster_labels[c] = max(counter, key=counter.get)\n",
        "        except:\n",
        "            cluster_labels[c] = np.random.randint(0,9)\n",
        "    return cluster_labels"
      ],
      "metadata": {
        "id": "QGLN4LFXStV4"
      },
      "execution_count": null,
      "outputs": []
    },
    {
      "cell_type": "code",
      "source": [
        "def jaccard_similarity(centroid, dp):\n",
        "        intersection = len(list(set(centroid).intersection(dp)))\n",
        "        union = (len(set(centroid)) + len(set(dp))) - intersection\n",
        "        return float(intersection) / union"
      ],
      "metadata": {
        "id": "7SL0ChykSvy8"
      },
      "execution_count": null,
      "outputs": []
    },
    {
      "cell_type": "code",
      "source": [
        "def accuracy(centroids, centroid_Labels, test_data, true_labels, mode=1):\n",
        "    y_true = list(true_labels['label']);\n",
        "    y_pred = []\n",
        "    for index in range(test_data.shape[0]):\n",
        "        featureset = test_data.iloc[index]\n",
        "        if mode==1:\n",
        "            distances = [np.linalg.norm(featureset - centroids[centroid]) for centroid in centroids]\n",
        "            classification = distances.index(min(distances))\n",
        "            y_pred.append(centroid_Labels[classification])\n",
        "        elif mode==2:\n",
        "            similarity = [jaccard_similarity(featureset, centroids[centroid]) for centroid in centroids]\n",
        "            classification = similarity.index(max(similarity))\n",
        "            y_pred.append(centroid_Labels[classification]) \n",
        "        elif mode==3:\n",
        "            similarity = [1 - spatial.distance.cosine(featureset, centroids[centroid]) for centroid in centroids]\n",
        "            classification = similarity.index(max(similarity))\n",
        "            y_pred.append(centroid_Labels[classification])\n",
        "    denominator = test_data.shape[0]\n",
        "    correctly_classified = 0\n",
        "    for i in range(0,len(y_pred)):\n",
        "        if y_true[i] == y_pred[i]:\n",
        "            correctly_classified += 1\n",
        "    accuracy = correctly_classified/denominator\n",
        "    return accuracy"
      ],
      "metadata": {
        "id": "VGwjGRKlToUZ"
      },
      "execution_count": null,
      "outputs": []
    },
    {
      "cell_type": "code",
      "source": [
        "model1 = KMeans()\n",
        "centroids1,clusters1 = model1.train_Kmeans(data,10, max_iter=100,mode=1)"
      ],
      "metadata": {
        "colab": {
          "base_uri": "https://localhost:8080/"
        },
        "id": "uZvA1eCjTtDR",
        "outputId": "d7fe85e4-9aa6-4dc7-f7ac-0a4837d19a1f"
      },
      "execution_count": null,
      "outputs": [
        {
          "output_type": "stream",
          "name": "stdout",
          "text": [
            "Tolerance for the Iteration  0 :  25399.763837638377\n",
            "Tolerance for the Iteration  1 :  5475.672324324324\n",
            "Tolerance for the Iteration  2 :  3693.2691114006902\n",
            "Tolerance for the Iteration  3 :  1965.8205126729877\n",
            "Tolerance for the Iteration  4 :  1233.4706540115094\n",
            "Tolerance for the Iteration  5 :  1051.99305376852\n",
            "Tolerance for the Iteration  6 :  1253.2210376234252\n",
            "Tolerance for the Iteration  7 :  1777.2707764422803\n",
            "Tolerance for the Iteration  8 :  1857.8346894599547\n",
            "Tolerance for the Iteration  9 :  1282.4874629435933\n"
          ]
        }
      ]
    },
    {
      "cell_type": "code",
      "source": [
        "Euclidean_SSE = model1.calculate_SSE(centroids1,clusters1,data)"
      ],
      "metadata": {
        "id": "7LrEbCl4TwCM"
      },
      "execution_count": null,
      "outputs": []
    },
    {
      "cell_type": "code",
      "source": [
        "print(\"Euclidean SSE:\",Euclidean_SSE)"
      ],
      "metadata": {
        "colab": {
          "base_uri": "https://localhost:8080/"
        },
        "id": "CfxW39oyTx69",
        "outputId": "b0cbbeb1-b682-486f-ac85-8d086a14b842"
      },
      "execution_count": null,
      "outputs": [
        {
          "output_type": "stream",
          "name": "stdout",
          "text": [
            "Euclidean SSE: 25623612263.443344\n"
          ]
        }
      ]
    },
    {
      "cell_type": "code",
      "execution_count": null,
      "metadata": {
        "id": "eea051f0",
        "colab": {
          "base_uri": "https://localhost:8080/"
        },
        "outputId": "68ca37f3-6173-4d84-cdb4-f5bebbd9ea70"
      },
      "outputs": [
        {
          "output_type": "execute_result",
          "data": {
            "text/plain": [
              "array([5, 7, 1, 0, 9, 7, 2, 3, 2, 3])"
            ]
          },
          "metadata": {},
          "execution_count": 18
        }
      ],
      "source": [
        "cluster_labels1 = predict_cluster_labels(centroids1,clusters1,labels)\n",
        "cluster_labels1"
      ]
    },
    {
      "cell_type": "code",
      "execution_count": null,
      "metadata": {
        "id": "7626677d",
        "colab": {
          "base_uri": "https://localhost:8080/"
        },
        "outputId": "98c2e945-2278-476a-b0a3-243d8da39b60"
      },
      "outputs": [
        {
          "output_type": "execute_result",
          "data": {
            "text/plain": [
              "0.0875"
            ]
          },
          "metadata": {},
          "execution_count": 34
        }
      ],
      "source": [
        "Accuracy_Euclidean = accuracy(centroids1, cluster_labels1,test_data,test_labels)\n",
        "Accuracy_Euclidean"
      ]
    },
    {
      "cell_type": "code",
      "execution_count": null,
      "metadata": {
        "id": "60746ea3",
        "colab": {
          "base_uri": "https://localhost:8080/"
        },
        "outputId": "adb57a0b-0d95-442c-8556-5dc649de2699"
      },
      "outputs": [
        {
          "output_type": "stream",
          "name": "stdout",
          "text": [
            "Tolerance for the Iteration  0 :  31041.110842541435\n",
            "Tolerance for the Iteration  1 :  5701.428019406059\n",
            "Tolerance for the Iteration  2 :  5903.836702390525\n",
            "Tolerance for the Iteration  3 :  3200.5725967333574\n",
            "Tolerance for the Iteration  4 :  1763.0961547678314\n",
            "Tolerance for the Iteration  5 :  1651.631984750199\n",
            "Tolerance for the Iteration  6 :  2149.0778014577013\n",
            "Tolerance for the Iteration  7 :  1528.8817131042863\n",
            "Tolerance for the Iteration  8 :  1274.728399160671\n",
            "Tolerance for the Iteration  9 :  895.3300161559778\n",
            "Tolerance for the Iteration  10 :  1249.6638385868973\n",
            "Tolerance for the Iteration  11 :  733.8049140542282\n",
            "Tolerance for the Iteration  12 :  298.1460533833932\n",
            "Tolerance for the Iteration  13 :  0.0\n"
          ]
        }
      ],
      "source": [
        "model2 = KMeans()\n",
        "centroids2,clusters2 = model2.train_Kmeans(data,10, max_iter=100,mode=2)\n",
        "Jaccard_SSE = model2.calculate_SSE(centroids2,clusters2,data)"
      ]
    },
    {
      "cell_type": "code",
      "execution_count": null,
      "metadata": {
        "id": "3d9f8277",
        "colab": {
          "base_uri": "https://localhost:8080/"
        },
        "outputId": "0f761618-315b-4cc9-ca2d-88a3a6d8be36"
      },
      "outputs": [
        {
          "output_type": "stream",
          "name": "stdout",
          "text": [
            "Jacard SSE: 34361687572.938736\n"
          ]
        }
      ],
      "source": [
        "print(\"Jacard SSE:\",Jaccard_SSE)"
      ]
    },
    {
      "cell_type": "code",
      "execution_count": null,
      "metadata": {
        "id": "5ca9e8fd",
        "colab": {
          "base_uri": "https://localhost:8080/"
        },
        "outputId": "805793e3-63ee-4071-a3ec-14c496d913f9"
      },
      "outputs": [
        {
          "output_type": "execute_result",
          "data": {
            "text/plain": [
              "array([1, 7, 8, 6, 3, 4, 2, 5, 2, 2])"
            ]
          },
          "metadata": {},
          "execution_count": 29
        }
      ],
      "source": [
        "cluster_labels2 = predict_cluster_labels(centroids2,clusters2,labels)\n",
        "cluster_labels2"
      ]
    },
    {
      "cell_type": "code",
      "execution_count": null,
      "metadata": {
        "id": "7813fdeb",
        "colab": {
          "base_uri": "https://localhost:8080/"
        },
        "outputId": "0792c282-76ba-427c-a108-b89b5c5ee4fc"
      },
      "outputs": [
        {
          "output_type": "execute_result",
          "data": {
            "text/plain": [
              "0.1075"
            ]
          },
          "metadata": {},
          "execution_count": 30
        }
      ],
      "source": [
        "Accuracy_Jaccard = accuracy(centroids2, cluster_labels2,test_data,test_labels)\n",
        "Accuracy_Jaccard"
      ]
    },
    {
      "cell_type": "code",
      "execution_count": null,
      "metadata": {
        "id": "6e31f4b7",
        "colab": {
          "base_uri": "https://localhost:8080/"
        },
        "outputId": "bb2bf437-aed3-4216-c72c-82ddb18099a0"
      },
      "outputs": [
        {
          "output_type": "stream",
          "name": "stdout",
          "text": [
            "Tolerance for the Iteration  0 :  28857.200934579436\n",
            "Tolerance for the Iteration  1 :  6231.249798135506\n",
            "Tolerance for the Iteration  2 :  3137.6074955127924\n",
            "Tolerance for the Iteration  3 :  2924.342337606713\n",
            "Tolerance for the Iteration  4 :  2587.3035629200167\n",
            "Tolerance for the Iteration  5 :  2187.340578534064\n",
            "Tolerance for the Iteration  6 :  1742.6148843930632\n",
            "Tolerance for the Iteration  7 :  1341.8570176643248\n",
            "Tolerance for the Iteration  8 :  1158.6871033753755\n",
            "Tolerance for the Iteration  9 :  932.8574325041448\n",
            "Tolerance for the Iteration  10 :  813.5194476789702\n",
            "Tolerance for the Iteration  11 :  761.6655889262166\n",
            "Tolerance for the Iteration  12 :  697.9690828630726\n",
            "Tolerance for the Iteration  13 :  659.5169542250799\n",
            "Tolerance for the Iteration  14 :  711.2075496503007\n",
            "Tolerance for the Iteration  15 :  686.3316840899992\n",
            "Tolerance for the Iteration  16 :  473.8157045299995\n",
            "Tolerance for the Iteration  17 :  322.77061030113487\n",
            "Tolerance for the Iteration  18 :  319.1711558819588\n",
            "Tolerance for the Iteration  19 :  257.65804355160833\n",
            "Tolerance for the Iteration  20 :  171.90126750014997\n",
            "Tolerance for the Iteration  21 :  165.1619698006403\n",
            "Tolerance for the Iteration  22 :  129.0986987221545\n",
            "Tolerance for the Iteration  23 :  159.06920715208096\n",
            "Tolerance for the Iteration  24 :  162.2909872250239\n",
            "Tolerance for the Iteration  25 :  81.63773310886776\n",
            "Tolerance for the Iteration  26 :  78.94595160816228\n",
            "Tolerance for the Iteration  27 :  125.25627159941334\n",
            "Tolerance for the Iteration  28 :  140.78723461446202\n",
            "Tolerance for the Iteration  29 :  145.65275537801153\n",
            "Tolerance for the Iteration  30 :  126.11539649591032\n",
            "Tolerance for the Iteration  31 :  149.90555723389883\n",
            "Tolerance for the Iteration  32 :  131.22594083668838\n",
            "Tolerance for the Iteration  33 :  114.11810181172875\n",
            "Tolerance for the Iteration  34 :  131.55252048977988\n",
            "Tolerance for the Iteration  35 :  99.56853337736634\n",
            "Tolerance for the Iteration  36 :  123.39604861659238\n",
            "Tolerance for the Iteration  37 :  96.80375594718221\n",
            "Tolerance for the Iteration  38 :  99.38940220065729\n",
            "Tolerance for the Iteration  39 :  88.32454865693862\n",
            "Tolerance for the Iteration  40 :  87.91984276694879\n",
            "Tolerance for the Iteration  41 :  42.92694916677803\n",
            "Tolerance for the Iteration  42 :  34.84303112313933\n",
            "Tolerance for the Iteration  43 :  46.9369789008331\n",
            "Tolerance for the Iteration  44 :  28.112951180353257\n",
            "Tolerance for the Iteration  45 :  37.75183380176272\n",
            "Tolerance for the Iteration  46 :  30.01744719926546\n",
            "Tolerance for the Iteration  47 :  31.708613541835515\n",
            "Tolerance for the Iteration  48 :  0.0\n"
          ]
        }
      ],
      "source": [
        "model3 = KMeans()\n",
        "centroids3,clusters3 = model3.train_Kmeans(data,10, max_iter = 100,mode=3)"
      ]
    },
    {
      "cell_type": "code",
      "execution_count": null,
      "metadata": {
        "id": "8aa0a82b"
      },
      "outputs": [],
      "source": [
        "Cosine_SSE = model3.calculate_SSE(centroids3,clusters3,data)"
      ]
    },
    {
      "cell_type": "code",
      "execution_count": null,
      "metadata": {
        "id": "16a764e2",
        "colab": {
          "base_uri": "https://localhost:8080/"
        },
        "outputId": "efbae869-5986-486a-cde1-0864a03c0956"
      },
      "outputs": [
        {
          "output_type": "stream",
          "name": "stdout",
          "text": [
            "Euclidean SSE: 25623612263.443344\n",
            "Jacard SSE: 34361687572.938736\n",
            "Cosine SSE : 25645122363.170094\n"
          ]
        }
      ],
      "source": [
        "print(\"Euclidean SSE:\",Euclidean_SSE)\n",
        "print(\"Jacard SSE:\",Jaccard_SSE)\n",
        "print(\"Cosine SSE :\",Cosine_SSE)"
      ]
    },
    {
      "cell_type": "code",
      "execution_count": null,
      "metadata": {
        "id": "463448d8",
        "colab": {
          "base_uri": "https://localhost:8080/"
        },
        "outputId": "718ecbda-663e-4766-ec65-2e888138c067"
      },
      "outputs": [
        {
          "output_type": "execute_result",
          "data": {
            "text/plain": [
              "array([5, 3, 2, 4, 3, 9, 6, 8, 1, 0])"
            ]
          },
          "metadata": {},
          "execution_count": 37
        }
      ],
      "source": [
        "cluster_labels3 = predict_cluster_labels(centroids3,clusters3,labels)\n",
        "cluster_labels3"
      ]
    },
    {
      "cell_type": "code",
      "execution_count": null,
      "metadata": {
        "id": "d556ab88",
        "colab": {
          "base_uri": "https://localhost:8080/"
        },
        "outputId": "01eb9cbc-1d9b-4c7f-b9c6-f6bc5106224b"
      },
      "outputs": [
        {
          "output_type": "execute_result",
          "data": {
            "text/plain": [
              "0.085"
            ]
          },
          "metadata": {},
          "execution_count": 40
        }
      ],
      "source": [
        "#Accuracy_Cosine = accuracy(centroids3, cluster_labels3,test_data,test_labels)\n",
        "Accuracy_Euclidean\n",
        "Accuracy_Jaccard\n",
        "Accuracy_Cosine"
      ]
    },
    {
      "cell_type": "code",
      "source": [
        "print(\"Euclidean accuracy:\",Accuracy_Euclidean)\n",
        "print(\"Jacard accuracy:\",Accuracy_Jaccard)\n",
        "print(\"Cosine accuracy :\",Accuracy_Cosine)"
      ],
      "metadata": {
        "colab": {
          "base_uri": "https://localhost:8080/"
        },
        "id": "77gOgz9UseAY",
        "outputId": "a4308873-f0c5-4963-8602-72d71d180b8d"
      },
      "execution_count": null,
      "outputs": [
        {
          "output_type": "stream",
          "name": "stdout",
          "text": [
            "Euclidean accuracy: 0.0875\n",
            "Jacard accuracy: 0.1075\n",
            "Cosine accuracy : 0.085\n"
          ]
        }
      ]
    }
  ]
}
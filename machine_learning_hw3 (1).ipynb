{
  "nbformat": 4,
  "nbformat_minor": 0,
  "metadata": {
    "colab": {
      "provenance": []
    },
    "kernelspec": {
      "name": "python3",
      "display_name": "Python 3"
    },
    "language_info": {
      "name": "python"
    },
    "accelerator": "GPU",
    "gpuClass": "standard"
  },
  "cells": [
    {
      "cell_type": "code",
      "source": [
        "!pip install surprise"
      ],
      "metadata": {
        "colab": {
          "base_uri": "https://localhost:8080/"
        },
        "id": "ewF8qIXbcTfT",
        "outputId": "08c8cb2b-be72-439a-c301-c2dc97d4145c"
      },
      "execution_count": 5,
      "outputs": [
        {
          "output_type": "stream",
          "name": "stdout",
          "text": [
            "Looking in indexes: https://pypi.org/simple, https://us-python.pkg.dev/colab-wheels/public/simple/\n",
            "Collecting surprise\n",
            "  Downloading surprise-0.1-py2.py3-none-any.whl (1.8 kB)\n",
            "Collecting scikit-surprise\n",
            "  Downloading scikit-surprise-1.1.1.tar.gz (11.8 MB)\n",
            "\u001b[K     |████████████████████████████████| 11.8 MB 5.2 MB/s \n",
            "\u001b[?25hRequirement already satisfied: joblib>=0.11 in /usr/local/lib/python3.7/dist-packages (from scikit-surprise->surprise) (1.2.0)\n",
            "Requirement already satisfied: numpy>=1.11.2 in /usr/local/lib/python3.7/dist-packages (from scikit-surprise->surprise) (1.21.6)\n",
            "Requirement already satisfied: scipy>=1.0.0 in /usr/local/lib/python3.7/dist-packages (from scikit-surprise->surprise) (1.7.3)\n",
            "Requirement already satisfied: six>=1.10.0 in /usr/local/lib/python3.7/dist-packages (from scikit-surprise->surprise) (1.15.0)\n",
            "Building wheels for collected packages: scikit-surprise\n",
            "  Building wheel for scikit-surprise (setup.py) ... \u001b[?25l\u001b[?25hdone\n",
            "  Created wheel for scikit-surprise: filename=scikit_surprise-1.1.1-cp37-cp37m-linux_x86_64.whl size=1633963 sha256=3c447be436f3bde614ddc9934e267e30ebdb87dc24b3d86b9d39c3fffbdcaa3d\n",
            "  Stored in directory: /root/.cache/pip/wheels/76/44/74/b498c42be47b2406bd27994e16c5188e337c657025ab400c1c\n",
            "Successfully built scikit-surprise\n",
            "Installing collected packages: scikit-surprise, surprise\n",
            "Successfully installed scikit-surprise-1.1.1 surprise-0.1\n"
          ]
        }
      ]
    },
    {
      "cell_type": "code",
      "source": [
        "import pandas as pd \n",
        "import numpy as np \n",
        "from sklearn.utils import shuffle\n",
        "import matplotlib.pyplot as plt\n",
        "\n",
        "ratings=pd.read_csv('/content/ratings_small.csv')\n"
      ],
      "metadata": {
        "id": "Ed5lvxKSaW6g"
      },
      "execution_count": 20,
      "outputs": []
    },
    {
      "cell_type": "code",
      "source": [
        "from surprise import Reader\n",
        "from surprise import Dataset\n",
        "from surprise import  SVD, NormalPredictor, KNNBasic\n",
        "from surprise.model_selection import cross_validate\n",
        "from surprise import accuracy\n",
        "from IPython.display import display\n",
        "from collections import defaultdict\n",
        "from surprise.model_selection import KFold\n",
        "from surprise.model_selection import train_test_split"
      ],
      "metadata": {
        "id": "5DwVOTxAdQtb"
      },
      "execution_count": 16,
      "outputs": []
    },
    {
      "cell_type": "code",
      "source": [
        "import surprise"
      ],
      "metadata": {
        "id": "hh6FA-v0cPAk"
      },
      "execution_count": 17,
      "outputs": []
    },
    {
      "cell_type": "code",
      "source": [
        "ratings.head()"
      ],
      "metadata": {
        "colab": {
          "base_uri": "https://localhost:8080/",
          "height": 206
        },
        "id": "S97frIP0aW9A",
        "outputId": "f37976fc-1ed5-4bbc-c21f-4846875c68d9"
      },
      "execution_count": 3,
      "outputs": [
        {
          "output_type": "execute_result",
          "data": {
            "text/plain": [
              "   userId  movieId  rating   timestamp\n",
              "0       1       31     2.5  1260759144\n",
              "1       1     1029     3.0  1260759179\n",
              "2       1     1061     3.0  1260759182\n",
              "3       1     1129     2.0  1260759185\n",
              "4       1     1172     4.0  1260759205"
            ],
            "text/html": [
              "\n",
              "  <div id=\"df-f7e9183e-3a44-441e-90ae-05b341064452\">\n",
              "    <div class=\"colab-df-container\">\n",
              "      <div>\n",
              "<style scoped>\n",
              "    .dataframe tbody tr th:only-of-type {\n",
              "        vertical-align: middle;\n",
              "    }\n",
              "\n",
              "    .dataframe tbody tr th {\n",
              "        vertical-align: top;\n",
              "    }\n",
              "\n",
              "    .dataframe thead th {\n",
              "        text-align: right;\n",
              "    }\n",
              "</style>\n",
              "<table border=\"1\" class=\"dataframe\">\n",
              "  <thead>\n",
              "    <tr style=\"text-align: right;\">\n",
              "      <th></th>\n",
              "      <th>userId</th>\n",
              "      <th>movieId</th>\n",
              "      <th>rating</th>\n",
              "      <th>timestamp</th>\n",
              "    </tr>\n",
              "  </thead>\n",
              "  <tbody>\n",
              "    <tr>\n",
              "      <th>0</th>\n",
              "      <td>1</td>\n",
              "      <td>31</td>\n",
              "      <td>2.5</td>\n",
              "      <td>1260759144</td>\n",
              "    </tr>\n",
              "    <tr>\n",
              "      <th>1</th>\n",
              "      <td>1</td>\n",
              "      <td>1029</td>\n",
              "      <td>3.0</td>\n",
              "      <td>1260759179</td>\n",
              "    </tr>\n",
              "    <tr>\n",
              "      <th>2</th>\n",
              "      <td>1</td>\n",
              "      <td>1061</td>\n",
              "      <td>3.0</td>\n",
              "      <td>1260759182</td>\n",
              "    </tr>\n",
              "    <tr>\n",
              "      <th>3</th>\n",
              "      <td>1</td>\n",
              "      <td>1129</td>\n",
              "      <td>2.0</td>\n",
              "      <td>1260759185</td>\n",
              "    </tr>\n",
              "    <tr>\n",
              "      <th>4</th>\n",
              "      <td>1</td>\n",
              "      <td>1172</td>\n",
              "      <td>4.0</td>\n",
              "      <td>1260759205</td>\n",
              "    </tr>\n",
              "  </tbody>\n",
              "</table>\n",
              "</div>\n",
              "      <button class=\"colab-df-convert\" onclick=\"convertToInteractive('df-f7e9183e-3a44-441e-90ae-05b341064452')\"\n",
              "              title=\"Convert this dataframe to an interactive table.\"\n",
              "              style=\"display:none;\">\n",
              "        \n",
              "  <svg xmlns=\"http://www.w3.org/2000/svg\" height=\"24px\"viewBox=\"0 0 24 24\"\n",
              "       width=\"24px\">\n",
              "    <path d=\"M0 0h24v24H0V0z\" fill=\"none\"/>\n",
              "    <path d=\"M18.56 5.44l.94 2.06.94-2.06 2.06-.94-2.06-.94-.94-2.06-.94 2.06-2.06.94zm-11 1L8.5 8.5l.94-2.06 2.06-.94-2.06-.94L8.5 2.5l-.94 2.06-2.06.94zm10 10l.94 2.06.94-2.06 2.06-.94-2.06-.94-.94-2.06-.94 2.06-2.06.94z\"/><path d=\"M17.41 7.96l-1.37-1.37c-.4-.4-.92-.59-1.43-.59-.52 0-1.04.2-1.43.59L10.3 9.45l-7.72 7.72c-.78.78-.78 2.05 0 2.83L4 21.41c.39.39.9.59 1.41.59.51 0 1.02-.2 1.41-.59l7.78-7.78 2.81-2.81c.8-.78.8-2.07 0-2.86zM5.41 20L4 18.59l7.72-7.72 1.47 1.35L5.41 20z\"/>\n",
              "  </svg>\n",
              "      </button>\n",
              "      \n",
              "  <style>\n",
              "    .colab-df-container {\n",
              "      display:flex;\n",
              "      flex-wrap:wrap;\n",
              "      gap: 12px;\n",
              "    }\n",
              "\n",
              "    .colab-df-convert {\n",
              "      background-color: #E8F0FE;\n",
              "      border: none;\n",
              "      border-radius: 50%;\n",
              "      cursor: pointer;\n",
              "      display: none;\n",
              "      fill: #1967D2;\n",
              "      height: 32px;\n",
              "      padding: 0 0 0 0;\n",
              "      width: 32px;\n",
              "    }\n",
              "\n",
              "    .colab-df-convert:hover {\n",
              "      background-color: #E2EBFA;\n",
              "      box-shadow: 0px 1px 2px rgba(60, 64, 67, 0.3), 0px 1px 3px 1px rgba(60, 64, 67, 0.15);\n",
              "      fill: #174EA6;\n",
              "    }\n",
              "\n",
              "    [theme=dark] .colab-df-convert {\n",
              "      background-color: #3B4455;\n",
              "      fill: #D2E3FC;\n",
              "    }\n",
              "\n",
              "    [theme=dark] .colab-df-convert:hover {\n",
              "      background-color: #434B5C;\n",
              "      box-shadow: 0px 1px 3px 1px rgba(0, 0, 0, 0.15);\n",
              "      filter: drop-shadow(0px 1px 2px rgba(0, 0, 0, 0.3));\n",
              "      fill: #FFFFFF;\n",
              "    }\n",
              "  </style>\n",
              "\n",
              "      <script>\n",
              "        const buttonEl =\n",
              "          document.querySelector('#df-f7e9183e-3a44-441e-90ae-05b341064452 button.colab-df-convert');\n",
              "        buttonEl.style.display =\n",
              "          google.colab.kernel.accessAllowed ? 'block' : 'none';\n",
              "\n",
              "        async function convertToInteractive(key) {\n",
              "          const element = document.querySelector('#df-f7e9183e-3a44-441e-90ae-05b341064452');\n",
              "          const dataTable =\n",
              "            await google.colab.kernel.invokeFunction('convertToInteractive',\n",
              "                                                     [key], {});\n",
              "          if (!dataTable) return;\n",
              "\n",
              "          const docLinkHtml = 'Like what you see? Visit the ' +\n",
              "            '<a target=\"_blank\" href=https://colab.research.google.com/notebooks/data_table.ipynb>data table notebook</a>'\n",
              "            + ' to learn more about interactive tables.';\n",
              "          element.innerHTML = '';\n",
              "          dataTable['output_type'] = 'display_data';\n",
              "          await google.colab.output.renderOutput(dataTable, element);\n",
              "          const docLink = document.createElement('div');\n",
              "          docLink.innerHTML = docLinkHtml;\n",
              "          element.appendChild(docLink);\n",
              "        }\n",
              "      </script>\n",
              "    </div>\n",
              "  </div>\n",
              "  "
            ]
          },
          "metadata": {},
          "execution_count": 3
        }
      ]
    },
    {
      "cell_type": "code",
      "source": [
        "ratings.isnull().sum()"
      ],
      "metadata": {
        "colab": {
          "base_uri": "https://localhost:8080/"
        },
        "id": "MSu8W5D9aW_F",
        "outputId": "e353c0c5-0604-479b-c486-c6f4d11c9266"
      },
      "execution_count": 8,
      "outputs": [
        {
          "output_type": "execute_result",
          "data": {
            "text/plain": [
              "userId       0\n",
              "movieId      0\n",
              "rating       0\n",
              "timestamp    0\n",
              "dtype: int64"
            ]
          },
          "metadata": {},
          "execution_count": 8
        }
      ]
    },
    {
      "cell_type": "code",
      "source": [
        "shuffled_ratings = shuffle(ratings)"
      ],
      "metadata": {
        "id": "-WcFoo0naXA2"
      },
      "execution_count": 11,
      "outputs": []
    },
    {
      "cell_type": "code",
      "source": [
        "shuffled_ratings.shape"
      ],
      "metadata": {
        "colab": {
          "base_uri": "https://localhost:8080/"
        },
        "id": "rYTTwouVaXCe",
        "outputId": "9ba0a688-5b21-4cc2-f9d2-448a8ce5fbe5"
      },
      "execution_count": 14,
      "outputs": [
        {
          "output_type": "execute_result",
          "data": {
            "text/plain": [
              "(100004, 4)"
            ]
          },
          "metadata": {},
          "execution_count": 14
        }
      ]
    },
    {
      "cell_type": "code",
      "source": [
        "print(shuffled_ratings['rating'].max())"
      ],
      "metadata": {
        "colab": {
          "base_uri": "https://localhost:8080/"
        },
        "id": "5-xGrz9TaXFq",
        "outputId": "ac441230-8b66-4aeb-897a-25c8ec3a4a8e"
      },
      "execution_count": 15,
      "outputs": [
        {
          "output_type": "stream",
          "name": "stdout",
          "text": [
            "5.0\n"
          ]
        }
      ]
    },
    {
      "cell_type": "code",
      "source": [
        "col_names = ['user_id', 'item_id', 'rating', 'timestamp']\n",
        "data = pd.read_table('/content/ratings_small.csv', names=col_names)\n",
        "data = data.drop('timestamp', axis=1)\n",
        "data.info()"
      ],
      "metadata": {
        "colab": {
          "base_uri": "https://localhost:8080/"
        },
        "id": "JKWZKFYjaXHz",
        "outputId": "40e6c7a3-5e30-4511-a18a-8c32db10c2d7"
      },
      "execution_count": 18,
      "outputs": [
        {
          "output_type": "stream",
          "name": "stdout",
          "text": [
            "<class 'pandas.core.frame.DataFrame'>\n",
            "RangeIndex: 100005 entries, 0 to 100004\n",
            "Data columns (total 3 columns):\n",
            " #   Column   Non-Null Count   Dtype  \n",
            "---  ------   --------------   -----  \n",
            " 0   user_id  100005 non-null  object \n",
            " 1   item_id  0 non-null       float64\n",
            " 2   rating   0 non-null       float64\n",
            "dtypes: float64(2), object(1)\n",
            "memory usage: 2.3+ MB\n"
          ]
        }
      ]
    },
    {
      "cell_type": "code",
      "source": [
        "ratings.rating.hist(bins=5)\n",
        "plt.show()"
      ],
      "metadata": {
        "colab": {
          "base_uri": "https://localhost:8080/",
          "height": 265
        },
        "id": "aGzknYGtaXLM",
        "outputId": "1c96ec62-f63b-4490-9de0-3f455f43540c"
      },
      "execution_count": 23,
      "outputs": [
        {
          "output_type": "display_data",
          "data": {
            "text/plain": [
              "<Figure size 432x288 with 1 Axes>"
            ],
            "image/png": "[encoded data removed]"
          },
          "metadata": {
            "needs_background": "light"
          }
        }
      ]
    },
    {
      "cell_type": "code",
      "source": [
        "ratings.rating.hist()\n",
        "plt.show()"
      ],
      "metadata": {
        "colab": {
          "base_uri": "https://localhost:8080/",
          "height": 268
        },
        "id": "RY01mcKwdwO7",
        "outputId": "b8eade08-1da4-4f4b-823e-71eff5cde240"
      },
      "execution_count": 24,
      "outputs": [
        {
          "output_type": "display_data",
          "data": {
            "text/plain": [
              "<Figure size 432x288 with 1 Axes>"
            ],
            "image/png": "[encoded data removed]"
          },
          "metadata": {
            "needs_background": "light"
          }
        }
      ]
    },
    {
      "cell_type": "code",
      "source": [
        "from surprise import Dataset \n",
        "from surprise import Reader\n",
        "from surprise import SVD\n",
        "from surprise import KNNBasic\n",
        "from surprise import accuracy\n",
        "from surprise.model_selection import cross_validate\n",
        "from surprise.model_selection import train_test_split\n"
      ],
      "metadata": {
        "id": "3O_KC4gXh1Ug"
      },
      "execution_count": 42,
      "outputs": []
    },
    {
      "cell_type": "code",
      "source": [
        "PMF_RMSE = []\n",
        "PMF_MAE = []\n",
        "UB_RMSE = []\n",
        "UB_MAE = []\n",
        "IB_RMSE = []\n",
        "IB_MAE = []"
      ],
      "metadata": {
        "id": "zLxJ5EctioSZ"
      },
      "execution_count": 44,
      "outputs": []
    },
    {
      "cell_type": "code",
      "source": [
        "reader = Reader(line_format = \"user item rating timestamp\", sep = ',', skip_lines = 1)\n",
        "dataset = Dataset.load_from_file(\"/content/ratings_small.csv\", reader = reader)"
      ],
      "metadata": {
        "id": "quPJLKsMixkz"
      },
      "execution_count": 48,
      "outputs": []
    },
    {
      "cell_type": "code",
      "source": [
        "algorithm = SVD(biased = False)\n",
        "CV_PMF = cross_validate(algorithm, dataset, measures = ['RMSE', 'MAE'], cv = 5, verbose = True)"
      ],
      "metadata": {
        "colab": {
          "base_uri": "https://localhost:8080/"
        },
        "id": "e9Vmj5LxdwSY",
        "outputId": "c7ab1fbc-7783-4af4-b6c6-aef882eb7b3b"
      },
      "execution_count": 50,
      "outputs": [
        {
          "output_type": "stream",
          "name": "stdout",
          "text": [
            "Evaluating RMSE, MAE of algorithm SVD on 5 split(s).\n",
            "\n",
            "                  Fold 1  Fold 2  Fold 3  Fold 4  Fold 5  Mean    Std     \n",
            "RMSE (testset)    0.9989  1.0200  1.0011  1.0170  1.0081  1.0090  0.0084  \n",
            "MAE (testset)     0.7713  0.7863  0.7713  0.7852  0.7809  0.7790  0.0065  \n",
            "Fit time          5.71    5.43    5.75    5.56    5.55    5.60    0.12    \n",
            "Test time         0.20    0.36    0.19    0.30    0.15    0.24    0.08    \n"
          ]
        }
      ]
    },
    {
      "cell_type": "code",
      "source": [
        "algorithm = KNNBasic(sim_options = {'user_based' : True })\n",
        "CV_UB_CF = cross_validate(algorithm, dataset, measures = ['RMSE', 'MAE'], cv = 5, verbose = True)\n"
      ],
      "metadata": {
        "colab": {
          "base_uri": "https://localhost:8080/"
        },
        "id": "GAY5g-Xgi-Vo",
        "outputId": "28762713-6d3c-4014-cb0e-df2b477fea71"
      },
      "execution_count": 51,
      "outputs": [
        {
          "output_type": "stream",
          "name": "stdout",
          "text": [
            "Computing the msd similarity matrix...\n",
            "Done computing similarity matrix.\n",
            "Computing the msd similarity matrix...\n",
            "Done computing similarity matrix.\n",
            "Computing the msd similarity matrix...\n",
            "Done computing similarity matrix.\n",
            "Computing the msd similarity matrix...\n",
            "Done computing similarity matrix.\n",
            "Computing the msd similarity matrix...\n",
            "Done computing similarity matrix.\n",
            "Evaluating RMSE, MAE of algorithm KNNBasic on 5 split(s).\n",
            "\n",
            "                  Fold 1  Fold 2  Fold 3  Fold 4  Fold 5  Mean    Std     \n",
            "RMSE (testset)    0.9691  0.9664  0.9726  0.9721  0.9694  0.9699  0.0022  \n",
            "MAE (testset)     0.7441  0.7461  0.7490  0.7443  0.7438  0.7455  0.0019  \n",
            "Fit time          0.19    0.27    0.26    0.33    0.24    0.26    0.05    \n",
            "Test time         1.83    2.03    1.94    1.88    2.10    1.96    0.10    \n"
          ]
        }
      ]
    },
    {
      "cell_type": "code",
      "source": [
        "algorithm = KNNBasic(sim_options = {'item_based' : False })\n",
        "CV_IB_CF = cross_validate(algorithm, dataset, measures = ['RMSE', 'MAE'], cv = 5, verbose = True)"
      ],
      "metadata": {
        "colab": {
          "base_uri": "https://localhost:8080/"
        },
        "id": "2VMjwHjajj0w",
        "outputId": "957086af-dc2f-4586-ce82-168114dc9e29"
      },
      "execution_count": 55,
      "outputs": [
        {
          "output_type": "stream",
          "name": "stdout",
          "text": [
            "Computing the msd similarity matrix...\n",
            "Done computing similarity matrix.\n",
            "Computing the msd similarity matrix...\n",
            "Done computing similarity matrix.\n",
            "Computing the msd similarity matrix...\n",
            "Done computing similarity matrix.\n",
            "Computing the msd similarity matrix...\n",
            "Done computing similarity matrix.\n",
            "Computing the msd similarity matrix...\n",
            "Done computing similarity matrix.\n",
            "Evaluating RMSE, MAE of algorithm KNNBasic on 5 split(s).\n",
            "\n",
            "                  Fold 1  Fold 2  Fold 3  Fold 4  Fold 5  Mean    Std     \n",
            "RMSE (testset)    0.9295  0.9473  0.9372  0.9264  0.9375  0.9356  0.0073  \n",
            "MAE (testset)     0.7133  0.7336  0.7205  0.7161  0.7243  0.7216  0.0071  \n",
            "Fit time          6.54    6.65    5.61    6.64    5.63    6.21    0.49    \n",
            "Test time         8.52    9.64    10.04   9.05    9.35    9.32    0.52    \n"
          ]
        }
      ]
    },
    {
      "cell_type": "code",
      "source": [
        "algorithm = SVD(biased = False)\n",
        "CV_PMF = cross_validate(algorithm, dataset, measures = ['RMSE', 'MAE'], cv = 5, verbose = True)"
      ],
      "metadata": {
        "id": "Sm2oUj5yjZlF"
      },
      "execution_count": null,
      "outputs": []
    },
    {
      "cell_type": "code",
      "source": [
        "PMF_RMSE.append(CV_PMF['test_rmse'].mean())\n",
        "PMF_MAE.append(CV_PMF['test_mae'].mean())\n",
        "print(PMF_RMSE)\n",
        "print(PMF_MAE)"
      ],
      "metadata": {
        "colab": {
          "base_uri": "https://localhost:8080/"
        },
        "id": "Pmmf1E-6jH9u",
        "outputId": "7a6511de-a34f-4b55-847d-ece75163f6ba"
      },
      "execution_count": 52,
      "outputs": [
        {
          "output_type": "stream",
          "name": "stdout",
          "text": [
            "[1.0090073160503334]\n",
            "[0.7790143443830709]\n"
          ]
        }
      ]
    },
    {
      "cell_type": "code",
      "source": [
        "UB_RMSE.append(CV_UB_CF['test_rmse'].mean())\n",
        "UB_MAE.append(CV_UB_CF['test_mae'].mean())\n",
        "print(UB_RMSE)\n",
        "print(UB_MAE)"
      ],
      "metadata": {
        "colab": {
          "base_uri": "https://localhost:8080/"
        },
        "id": "yq7fu1TZjIAd",
        "outputId": "ff8b7140-5d84-41ab-e73d-81a0c7c1dd2f"
      },
      "execution_count": 53,
      "outputs": [
        {
          "output_type": "stream",
          "name": "stdout",
          "text": [
            "[0.9699273312742083]\n",
            "[0.7454838606051869]\n"
          ]
        }
      ]
    },
    {
      "cell_type": "code",
      "source": [
        "IB_RMSE.append(CV_IB_CF['test_rmse'].mean())\n",
        "IB_MAE.append(CV_IB_CF['test_mae'].mean())\n",
        "print(IB_RMSE)\n",
        "print(IB_MAE)"
      ],
      "metadata": {
        "colab": {
          "base_uri": "https://localhost:8080/"
        },
        "id": "h4SUQ4YWjICr",
        "outputId": "51a60f79-c269-45e8-e29d-8ed552d9f48b"
      },
      "execution_count": 56,
      "outputs": [
        {
          "output_type": "stream",
          "name": "stdout",
          "text": [
            "[0.9355736455307913]\n",
            "[0.7215546403933454]\n"
          ]
        }
      ]
    },
    {
      "cell_type": "code",
      "source": [
        "algo_UB_cosine = KNNBasic(sim_options = {'name' : 'cosine', 'user_based' : True})\n",
        "CV_UB_cosine = cross_validate(algo_UB_cosine, dataset, measures = ['RMSE', 'MAE'], cv = 5, verbose = True)\n",
        "algo_UB_msd = KNNBasic(sim_options = {'user_based' : True})\n",
        "CV_UB_msd = cross_validate(algo_UB_msd, dataset, measures = ['RMSE', 'MAE'], cv = 5, verbose = True)\n",
        "algo_UB_pearson = KNNBasic(sim_options = {'name' : 'pearson_baseline', 'user_based' : True})\n",
        "CV_UB_pearson = cross_validate(algo_UB_pearson, dataset, measures = ['RMSE', 'MAE'], cv = 5, verbose = True)\n",
        "\n",
        "algo_IB_cosine = KNNBasic(sim_options = {'name' : 'cosine', 'user_based' : False})\n",
        "CV_IB_cosine = cross_validate(algo_IB_cosine, dataset, measures = ['RMSE', 'MAE'], cv = 5, verbose = True)\n",
        "algo_IB_msd = KNNBasic(sim_options = {'user_based' : False})\n",
        "CV_IB_msd = cross_validate(algo_IB_msd, dataset, measures = ['RMSE', 'MAE'], cv = 5, verbose = True)\n",
        "algo_IB_pearson = KNNBasic(sim_options = {'name' : 'pearson_baseline', 'user_based' : False})\n",
        "CV_IB_pearson = cross_validate(algo_IB_pearson, dataset, measures = ['RMSE', 'MAE'], cv = 5, verbose = True)"
      ],
      "metadata": {
        "colab": {
          "base_uri": "https://localhost:8080/"
        },
        "id": "gFMC-6KSjIFA",
        "outputId": "f2ed64c9-c296-4e42-cc79-639247c9d16a"
      },
      "execution_count": 57,
      "outputs": [
        {
          "output_type": "stream",
          "name": "stdout",
          "text": [
            "Computing the cosine similarity matrix...\n",
            "Done computing similarity matrix.\n",
            "Computing the cosine similarity matrix...\n",
            "Done computing similarity matrix.\n",
            "Computing the cosine similarity matrix...\n",
            "Done computing similarity matrix.\n",
            "Computing the cosine similarity matrix...\n",
            "Done computing similarity matrix.\n",
            "Computing the cosine similarity matrix...\n",
            "Done computing similarity matrix.\n",
            "Evaluating RMSE, MAE of algorithm KNNBasic on 5 split(s).\n",
            "\n",
            "                  Fold 1  Fold 2  Fold 3  Fold 4  Fold 5  Mean    Std     \n",
            "RMSE (testset)    0.9936  0.9966  0.9847  0.9889  0.9977  0.9923  0.0049  \n",
            "MAE (testset)     0.7698  0.7687  0.7619  0.7649  0.7686  0.7668  0.0029  \n",
            "Fit time          0.44    0.52    0.51    0.47    0.52    0.49    0.03    \n",
            "Test time         1.89    1.79    2.08    1.76    2.04    1.91    0.13    \n",
            "Computing the msd similarity matrix...\n",
            "Done computing similarity matrix.\n",
            "Computing the msd similarity matrix...\n",
            "Done computing similarity matrix.\n",
            "Computing the msd similarity matrix...\n",
            "Done computing similarity matrix.\n",
            "Computing the msd similarity matrix...\n",
            "Done computing similarity matrix.\n",
            "Computing the msd similarity matrix...\n",
            "Done computing similarity matrix.\n",
            "Evaluating RMSE, MAE of algorithm KNNBasic on 5 split(s).\n",
            "\n",
            "                  Fold 1  Fold 2  Fold 3  Fold 4  Fold 5  Mean    Std     \n",
            "RMSE (testset)    0.9714  0.9675  0.9533  0.9765  0.9701  0.9678  0.0078  \n",
            "MAE (testset)     0.7477  0.7434  0.7320  0.7507  0.7455  0.7439  0.0064  \n",
            "Fit time          0.20    0.21    0.24    0.23    0.25    0.22    0.02    \n",
            "Test time         1.86    1.98    1.88    1.76    1.97    1.89    0.08    \n",
            "Estimating biases using als...\n",
            "Computing the pearson_baseline similarity matrix...\n",
            "Done computing similarity matrix.\n",
            "Estimating biases using als...\n",
            "Computing the pearson_baseline similarity matrix...\n",
            "Done computing similarity matrix.\n",
            "Estimating biases using als...\n",
            "Computing the pearson_baseline similarity matrix...\n",
            "Done computing similarity matrix.\n",
            "Estimating biases using als...\n",
            "Computing the pearson_baseline similarity matrix...\n",
            "Done computing similarity matrix.\n",
            "Estimating biases using als...\n",
            "Computing the pearson_baseline similarity matrix...\n",
            "Done computing similarity matrix.\n",
            "Evaluating RMSE, MAE of algorithm KNNBasic on 5 split(s).\n",
            "\n",
            "                  Fold 1  Fold 2  Fold 3  Fold 4  Fold 5  Mean    Std     \n",
            "RMSE (testset)    1.0051  0.9926  0.9930  0.9984  1.0006  0.9979  0.0047  \n",
            "MAE (testset)     0.7756  0.7679  0.7668  0.7693  0.7726  0.7704  0.0032  \n",
            "Fit time          0.92    1.05    1.02    2.07    0.98    1.21    0.43    \n",
            "Test time         2.06    1.97    1.75    2.04    1.78    1.92    0.13    \n",
            "Computing the cosine similarity matrix...\n",
            "Done computing similarity matrix.\n",
            "Computing the cosine similarity matrix...\n",
            "Done computing similarity matrix.\n",
            "Computing the cosine similarity matrix...\n",
            "Done computing similarity matrix.\n",
            "Computing the cosine similarity matrix...\n",
            "Done computing similarity matrix.\n",
            "Computing the cosine similarity matrix...\n",
            "Done computing similarity matrix.\n",
            "Evaluating RMSE, MAE of algorithm KNNBasic on 5 split(s).\n",
            "\n",
            "                  Fold 1  Fold 2  Fold 3  Fold 4  Fold 5  Mean    Std     \n",
            "RMSE (testset)    0.9980  1.0016  0.9956  0.9907  0.9954  0.9963  0.0036  \n",
            "MAE (testset)     0.7758  0.7790  0.7745  0.7710  0.7740  0.7748  0.0026  \n",
            "Fit time          18.08   16.28   19.48   16.92   16.62   17.48   1.17    \n",
            "Test time         8.96    15.93   9.81    8.54    8.29    10.31   2.86    \n",
            "Computing the msd similarity matrix...\n",
            "Done computing similarity matrix.\n",
            "Computing the msd similarity matrix...\n",
            "Done computing similarity matrix.\n",
            "Computing the msd similarity matrix...\n",
            "Done computing similarity matrix.\n",
            "Computing the msd similarity matrix...\n",
            "Done computing similarity matrix.\n",
            "Computing the msd similarity matrix...\n",
            "Done computing similarity matrix.\n",
            "Evaluating RMSE, MAE of algorithm KNNBasic on 5 split(s).\n",
            "\n",
            "                  Fold 1  Fold 2  Fold 3  Fold 4  Fold 5  Mean    Std     \n",
            "RMSE (testset)    0.9429  0.9255  0.9302  0.9328  0.9428  0.9348  0.0069  \n",
            "MAE (testset)     0.7274  0.7168  0.7160  0.7205  0.7235  0.7209  0.0042  \n",
            "Fit time          5.14    5.20    5.13    5.37    4.88    5.14    0.16    \n",
            "Test time         7.93    7.98    8.25    8.27    9.05    8.30    0.40    \n",
            "Estimating biases using als...\n",
            "Computing the pearson_baseline similarity matrix...\n",
            "Done computing similarity matrix.\n",
            "Estimating biases using als...\n",
            "Computing the pearson_baseline similarity matrix...\n",
            "Done computing similarity matrix.\n",
            "Estimating biases using als...\n",
            "Computing the pearson_baseline similarity matrix...\n",
            "Done computing similarity matrix.\n",
            "Estimating biases using als...\n",
            "Computing the pearson_baseline similarity matrix...\n",
            "Done computing similarity matrix.\n",
            "Estimating biases using als...\n",
            "Computing the pearson_baseline similarity matrix...\n",
            "Done computing similarity matrix.\n",
            "Evaluating RMSE, MAE of algorithm KNNBasic on 5 split(s).\n",
            "\n",
            "                  Fold 1  Fold 2  Fold 3  Fold 4  Fold 5  Mean    Std     \n",
            "RMSE (testset)    0.9358  0.9450  0.9435  0.9423  0.9400  0.9413  0.0032  \n",
            "MAE (testset)     0.7077  0.7163  0.7147  0.7137  0.7121  0.7129  0.0029  \n",
            "Fit time          10.88   10.72   11.04   10.83   10.99   10.89   0.11    \n",
            "Test time         7.81    8.61    8.26    8.77    8.41    8.37    0.33    \n"
          ]
        }
      ]
    },
    {
      "cell_type": "code",
      "source": [
        "PMF_RMSE.append(CV_PMF['test_rmse'].mean())\n",
        "PMF_MAE.append(CV_PMF['test_mae'].mean())\n",
        "print(PMF_RMSE)\n",
        "print(PMF_MAE)"
      ],
      "metadata": {
        "colab": {
          "base_uri": "https://localhost:8080/"
        },
        "id": "BWGUEbxzjIG9",
        "outputId": "28a4f5db-7891-483c-c655-f5d4a7691202"
      },
      "execution_count": 58,
      "outputs": [
        {
          "output_type": "stream",
          "name": "stdout",
          "text": [
            "[1.0090073160503334, 1.0090073160503334]\n",
            "[0.7790143443830709, 0.7790143443830709]\n"
          ]
        }
      ]
    },
    {
      "cell_type": "code",
      "source": [
        "UB_RMSE.append(CV_UB_CF['test_rmse'].mean())\n",
        "UB_MAE.append(CV_UB_CF['test_mae'].mean())\n",
        "print(UB_RMSE)\n",
        "print(UB_MAE)"
      ],
      "metadata": {
        "colab": {
          "base_uri": "https://localhost:8080/"
        },
        "id": "_NOU6YWNjII5",
        "outputId": "7998fbbd-34bd-4da1-b2bc-9f2ce42c35be"
      },
      "execution_count": 59,
      "outputs": [
        {
          "output_type": "stream",
          "name": "stdout",
          "text": [
            "[0.9699273312742083, 0.9699273312742083]\n",
            "[0.7454838606051869, 0.7454838606051869]\n"
          ]
        }
      ]
    },
    {
      "cell_type": "code",
      "source": [
        "IB_RMSE.append(CV_IB_CF['test_rmse'].mean())\n",
        "IB_MAE.append(CV_IB_CF['test_mae'].mean())\n",
        "print(IB_RMSE)\n",
        "print(IB_MAE)"
      ],
      "metadata": {
        "colab": {
          "base_uri": "https://localhost:8080/"
        },
        "id": "p_BaAOGsjILi",
        "outputId": "88ff71c5-cd6f-4cb2-c0f2-8b5ba0106bae"
      },
      "execution_count": 60,
      "outputs": [
        {
          "output_type": "stream",
          "name": "stdout",
          "text": [
            "[0.9355736455307913, 0.9355736455307913]\n",
            "[0.7215546403933454, 0.7215546403933454]\n"
          ]
        }
      ]
    },
    {
      "cell_type": "code",
      "source": [
        "algo_UB_cosine = KNNBasic(sim_options = {'name' : 'cosine', 'user_based' : True})\n",
        "CV_UB_cosine = cross_validate(algo_UB_cosine, dataset, measures = ['RMSE', 'MAE'], cv = 5, verbose = True)\n",
        "algo_UB_msd = KNNBasic(sim_options = {'user_based' : True})\n",
        "CV_UB_msd = cross_validate(algo_UB_msd, dataset, measures = ['RMSE', 'MAE'], cv = 5, verbose = True)\n",
        "algo_UB_pearson = KNNBasic(sim_options = {'name' : 'pearson_baseline', 'user_based' : True})\n",
        "CV_UB_pearson = cross_validate(algo_UB_pearson, dataset, measures = ['RMSE', 'MAE'], cv = 5, verbose = True)\n",
        "\n",
        "algo_IB_cosine = KNNBasic(sim_options = {'name' : 'cosine', 'user_based' : False})\n",
        "CV_IB_cosine = cross_validate(algo_IB_cosine, dataset, measures = ['RMSE', 'MAE'], cv = 5, verbose = True)\n",
        "algo_IB_msd = KNNBasic(sim_options = {'user_based' : False})\n",
        "CV_IB_msd = cross_validate(algo_IB_msd, dataset, measures = ['RMSE', 'MAE'], cv = 5, verbose = True)\n",
        "algo_IB_pearson = KNNBasic(sim_options = {'name' : 'pearson_baseline', 'user_based' : False})\n",
        "CV_IB_pearson = cross_validate(algo_IB_pearson, dataset, measures = ['RMSE', 'MAE'], cv = 5, verbose = True)"
      ],
      "metadata": {
        "colab": {
          "base_uri": "https://localhost:8080/"
        },
        "id": "OxLmDwpDjIOz",
        "outputId": "832eec61-fca1-4f5f-95b2-d4a903143ef2"
      },
      "execution_count": 61,
      "outputs": [
        {
          "output_type": "stream",
          "name": "stdout",
          "text": [
            "Computing the cosine similarity matrix...\n",
            "Done computing similarity matrix.\n",
            "Computing the cosine similarity matrix...\n",
            "Done computing similarity matrix.\n",
            "Computing the cosine similarity matrix...\n",
            "Done computing similarity matrix.\n",
            "Computing the cosine similarity matrix...\n",
            "Done computing similarity matrix.\n",
            "Computing the cosine similarity matrix...\n",
            "Done computing similarity matrix.\n",
            "Evaluating RMSE, MAE of algorithm KNNBasic on 5 split(s).\n",
            "\n",
            "                  Fold 1  Fold 2  Fold 3  Fold 4  Fold 5  Mean    Std     \n",
            "RMSE (testset)    0.9937  0.9899  0.9989  0.9922  0.9924  0.9934  0.0030  \n",
            "MAE (testset)     0.7690  0.7664  0.7715  0.7651  0.7661  0.7676  0.0023  \n",
            "Fit time          0.44    0.53    0.57    0.46    0.53    0.51    0.05    \n",
            "Test time         1.90    1.86    2.21    1.86    1.81    1.93    0.14    \n",
            "Computing the msd similarity matrix...\n",
            "Done computing similarity matrix.\n",
            "Computing the msd similarity matrix...\n",
            "Done computing similarity matrix.\n",
            "Computing the msd similarity matrix...\n",
            "Done computing similarity matrix.\n",
            "Computing the msd similarity matrix...\n",
            "Done computing similarity matrix.\n",
            "Computing the msd similarity matrix...\n",
            "Done computing similarity matrix.\n",
            "Evaluating RMSE, MAE of algorithm KNNBasic on 5 split(s).\n",
            "\n",
            "                  Fold 1  Fold 2  Fold 3  Fold 4  Fold 5  Mean    Std     \n",
            "RMSE (testset)    0.9605  0.9694  0.9721  0.9649  0.9721  0.9678  0.0045  \n",
            "MAE (testset)     0.7394  0.7458  0.7467  0.7406  0.7468  0.7439  0.0032  \n",
            "Fit time          0.20    0.22    0.23    0.26    0.21    0.22    0.02    \n",
            "Test time         1.78    1.83    1.79    1.95    1.87    1.84    0.06    \n",
            "Estimating biases using als...\n",
            "Computing the pearson_baseline similarity matrix...\n",
            "Done computing similarity matrix.\n",
            "Estimating biases using als...\n",
            "Computing the pearson_baseline similarity matrix...\n",
            "Done computing similarity matrix.\n",
            "Estimating biases using als...\n",
            "Computing the pearson_baseline similarity matrix...\n",
            "Done computing similarity matrix.\n",
            "Estimating biases using als...\n",
            "Computing the pearson_baseline similarity matrix...\n",
            "Done computing similarity matrix.\n",
            "Estimating biases using als...\n",
            "Computing the pearson_baseline similarity matrix...\n",
            "Done computing similarity matrix.\n",
            "Evaluating RMSE, MAE of algorithm KNNBasic on 5 split(s).\n",
            "\n",
            "                  Fold 1  Fold 2  Fold 3  Fold 4  Fold 5  Mean    Std     \n",
            "RMSE (testset)    0.9956  0.9938  0.9910  1.0034  1.0022  0.9972  0.0048  \n",
            "MAE (testset)     0.7675  0.7681  0.7654  0.7750  0.7723  0.7697  0.0035  \n",
            "Fit time          1.81    1.06    1.01    1.01    1.06    1.19    0.31    \n",
            "Test time         3.42    1.74    1.73    1.79    1.75    2.09    0.67    \n",
            "Computing the cosine similarity matrix...\n",
            "Done computing similarity matrix.\n",
            "Computing the cosine similarity matrix...\n",
            "Done computing similarity matrix.\n",
            "Computing the cosine similarity matrix...\n",
            "Done computing similarity matrix.\n",
            "Computing the cosine similarity matrix...\n",
            "Done computing similarity matrix.\n",
            "Computing the cosine similarity matrix...\n",
            "Done computing similarity matrix.\n",
            "Evaluating RMSE, MAE of algorithm KNNBasic on 5 split(s).\n",
            "\n",
            "                  Fold 1  Fold 2  Fold 3  Fold 4  Fold 5  Mean    Std     \n",
            "RMSE (testset)    0.9950  0.9945  1.0006  0.9924  0.9901  0.9945  0.0035  \n",
            "MAE (testset)     0.7778  0.7751  0.7789  0.7716  0.7687  0.7744  0.0038  \n",
            "Fit time          15.90   16.19   15.82   19.36   16.37   16.73   1.33    \n",
            "Test time         8.03    8.16    7.91    7.86    7.79    7.95    0.13    \n",
            "Computing the msd similarity matrix...\n",
            "Done computing similarity matrix.\n",
            "Computing the msd similarity matrix...\n",
            "Done computing similarity matrix.\n",
            "Computing the msd similarity matrix...\n",
            "Done computing similarity matrix.\n",
            "Computing the msd similarity matrix...\n",
            "Done computing similarity matrix.\n",
            "Computing the msd similarity matrix...\n",
            "Done computing similarity matrix.\n",
            "Evaluating RMSE, MAE of algorithm KNNBasic on 5 split(s).\n",
            "\n",
            "                  Fold 1  Fold 2  Fold 3  Fold 4  Fold 5  Mean    Std     \n",
            "RMSE (testset)    0.9407  0.9287  0.9383  0.9324  0.9371  0.9354  0.0043  \n",
            "MAE (testset)     0.7280  0.7184  0.7223  0.7142  0.7239  0.7214  0.0047  \n",
            "Fit time          5.09    5.26    6.90    5.84    5.40    5.70    0.65    \n",
            "Test time         8.10    8.79    8.14    8.20    8.30    8.31    0.25    \n",
            "Estimating biases using als...\n",
            "Computing the pearson_baseline similarity matrix...\n",
            "Done computing similarity matrix.\n",
            "Estimating biases using als...\n",
            "Computing the pearson_baseline similarity matrix...\n",
            "Done computing similarity matrix.\n",
            "Estimating biases using als...\n",
            "Computing the pearson_baseline similarity matrix...\n",
            "Done computing similarity matrix.\n",
            "Estimating biases using als...\n",
            "Computing the pearson_baseline similarity matrix...\n",
            "Done computing similarity matrix.\n",
            "Estimating biases using als...\n",
            "Computing the pearson_baseline similarity matrix...\n",
            "Done computing similarity matrix.\n",
            "Evaluating RMSE, MAE of algorithm KNNBasic on 5 split(s).\n",
            "\n",
            "                  Fold 1  Fold 2  Fold 3  Fold 4  Fold 5  Mean    Std     \n",
            "RMSE (testset)    0.9412  0.9340  0.9427  0.9414  0.9433  0.9405  0.0033  \n",
            "MAE (testset)     0.7107  0.7096  0.7143  0.7128  0.7134  0.7122  0.0017  \n",
            "Fit time          10.61   10.89   10.78   11.34   10.85   10.89   0.24    \n",
            "Test time         8.11    8.46    8.65    9.30    8.36    8.58    0.40    \n"
          ]
        }
      ]
    },
    {
      "cell_type": "code",
      "source": [
        "UB_RMSE_PLOT = []\n",
        "UB_MAE_PLOT = []\n",
        "UB_RMSE_PLOT.append(CV_UB_cosine['test_rmse'].mean())\n",
        "UB_RMSE_PLOT.append(CV_UB_msd['test_rmse'].mean())\n",
        "UB_RMSE_PLOT.append(CV_UB_pearson['test_rmse'].mean())\n",
        "UB_MAE_PLOT.append(CV_UB_cosine['test_mae'].mean())\n",
        "UB_MAE_PLOT.append(CV_UB_msd['test_mae'].mean())\n",
        "UB_MAE_PLOT.append(CV_UB_pearson['test_mae'].mean())\n"
      ],
      "metadata": {
        "id": "oIJfnH_QkFxN"
      },
      "execution_count": 62,
      "outputs": []
    },
    {
      "cell_type": "code",
      "source": [
        "plt.title(\"User Based CF: Cosine, MSD, Pearson\")\n",
        "plt.plot(UB_RMSE_PLOT, label = 'RMSE')\n",
        "plt.plot(UB_MAE_PLOT, label = 'MAE')\n",
        "plt.legend()"
      ],
      "metadata": {
        "colab": {
          "base_uri": "https://localhost:8080/",
          "height": 298
        },
        "id": "YJbi2egykF7t",
        "outputId": "16b904d2-8d0b-47a5-bafd-5a0b12b7cdc4"
      },
      "execution_count": 63,
      "outputs": [
        {
          "output_type": "execute_result",
          "data": {
            "text/plain": [
              "<matplotlib.legend.Legend at 0x7f91d36a6090>"
            ]
          },
          "metadata": {},
          "execution_count": 63
        },
        {
          "output_type": "display_data",
          "data": {
            "text/plain": [
              "<Figure size 432x288 with 1 Axes>"
            ],
            "image/png": "[encoded data removed]"
          },
          "metadata": {
            "needs_background": "light"
          }
        }
      ]
    },
    {
      "cell_type": "code",
      "source": [
        "IB_RMSE_PLOT = []\n",
        "IB_MAE_PLOT = []\n",
        "IB_RMSE_PLOT.append(CV_IB_cosine['test_rmse'].mean())\n",
        "IB_RMSE_PLOT.append(CV_IB_msd['test_rmse'].mean())\n",
        "IB_RMSE_PLOT.append(CV_IB_pearson['test_rmse'].mean())\n",
        "IB_MAE_PLOT.append(CV_IB_cosine['test_mae'].mean())\n",
        "IB_MAE_PLOT.append(CV_IB_msd['test_mae'].mean())\n",
        "IB_MAE_PLOT.append(CV_IB_pearson['test_mae'].mean())"
      ],
      "metadata": {
        "id": "QSerTzt0kNSJ"
      },
      "execution_count": 64,
      "outputs": []
    },
    {
      "cell_type": "code",
      "source": [
        "plt.title(\"Item Based CF: Cosine, MSD, Pearson\")\n",
        "plt.plot(IB_RMSE_PLOT, label = 'RMSE')\n",
        "plt.plot(IB_MAE_PLOT, label = 'MAE')\n",
        "plt.legend()"
      ],
      "metadata": {
        "colab": {
          "base_uri": "https://localhost:8080/",
          "height": 298
        },
        "id": "WKFqVUK5kNVo",
        "outputId": "c0ef8bff-f3df-4258-ef0b-db6344a14e28"
      },
      "execution_count": 65,
      "outputs": [
        {
          "output_type": "execute_result",
          "data": {
            "text/plain": [
              "<matplotlib.legend.Legend at 0x7f91d420ca90>"
            ]
          },
          "metadata": {},
          "execution_count": 65
        },
        {
          "output_type": "display_data",
          "data": {
            "text/plain": [
              "<Figure size 432x288 with 1 Axes>"
            ],
            "image/png": "[encoded data removed]"
          },
          "metadata": {
            "needs_background": "light"
          }
        }
      ]
    },
    {
      "cell_type": "code",
      "source": [
        "Range = range(1,101)\n",
        "User = []\n",
        "\n",
        "for i in Range:\n",
        "        algo = KNNBasic(k = i, sim_options = {'user_based' : True }, verbose = False)\n",
        "        CV_User = cross_validate(algo, dataset, measures=['rmse', 'mae'],cv = 5,verbose = False)\n",
        "        User.append(CV_User['test_rmse'].mean())\n",
        "        \n",
        "plt.plot(User)\n"
      ],
      "metadata": {
        "colab": {
          "base_uri": "https://localhost:8080/",
          "height": 282
        },
        "id": "MTZBfq1WkRPS",
        "outputId": "0e05e8ff-597d-425b-b27f-bd7664c430e3"
      },
      "execution_count": 66,
      "outputs": [
        {
          "output_type": "execute_result",
          "data": {
            "text/plain": [
              "[<matplotlib.lines.Line2D at 0x7f91d088b7d0>]"
            ]
          },
          "metadata": {},
          "execution_count": 66
        },
        {
          "output_type": "display_data",
          "data": {
            "text/plain": [
              "<Figure size 432x288 with 1 Axes>"
            ],
            "image/png": "[encoded data removed]"
          },
          "metadata": {
            "needs_background": "light"
          }
        }
      ]
    },
    {
      "cell_type": "code",
      "source": [
        "Range = range(1,101)\n",
        "Item = []\n",
        "\n",
        "for i in Range:\n",
        "        algo = KNNBasic(k = i, sim_options = {'user_based' : False }, verbose = False)\n",
        "        CV_Item = cross_validate(algo, dataset, measures=['rmse', 'mae'],cv = 5,verbose = False)\n",
        "        Item.append(CV_Item['test_rmse'].mean())\n",
        "        \n",
        "plt.plot(Item)"
      ],
      "metadata": {
        "id": "ZMXSo_0nkV_F"
      },
      "execution_count": null,
      "outputs": []
    },
    {
      "cell_type": "code",
      "source": [
        "User.index(min(User))"
      ],
      "metadata": {
        "id": "MIIzS0F1kWC5"
      },
      "execution_count": null,
      "outputs": []
    },
    {
      "cell_type": "code",
      "source": [
        "Item.index(min(Item))"
      ],
      "metadata": {
        "id": "7NBblYzWxfFM"
      },
      "execution_count": null,
      "outputs": []
    }
  ]
}